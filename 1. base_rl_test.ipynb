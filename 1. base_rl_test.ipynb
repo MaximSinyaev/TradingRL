{
 "cells": [
  {
   "cell_type": "code",
   "execution_count": 1,
   "metadata": {},
   "outputs": [],
   "source": [
    "%load_ext autoreload\n",
    "%autoreload 2"
   ]
  },
  {
   "cell_type": "code",
   "execution_count": 20,
   "metadata": {},
   "outputs": [],
   "source": [
    "import pandas as pd\n",
    "import numpy as np\n",
    "\n",
    "from utils.binance_loader import BinanceKlinesDownloader\n",
    "from utils.visualizer_candles import CandleChartVisualizer\n",
    "from utils.feature_generator import FeatureGenerator"
   ]
  },
  {
   "cell_type": "code",
   "execution_count": 3,
   "metadata": {},
   "outputs": [],
   "source": [
    "binance_loader = BinanceKlinesDownloader()\n",
    "candle_visualizer = CandleChartVisualizer(use_volume_width=False)\n",
    "feature_generator = FeatureGenerator()"
   ]
  },
  {
   "cell_type": "code",
   "execution_count": 4,
   "metadata": {},
   "outputs": [
    {
     "name": "stdout",
     "output_type": "stream",
     "text": [
      "Чтение данных из кэша: binance_data_cache/BTCUSDT/BTCUSDT_1m_2025-04-05_to_2025-04-08.parquet.gz\n"
     ]
    }
   ],
   "source": [
    "data = binance_loader.download(start_date='2025-04-05')"
   ]
  },
  {
   "cell_type": "code",
   "execution_count": 5,
   "metadata": {},
   "outputs": [
    {
     "data": {
      "application/vnd.plotly.v1+json": {
       "config": {
        "plotlyServerURL": "https://plot.ly"
       },
       "data": [
        {
         "close": {
          "bdata": "FK5H4T539EAfhetR2Hb0QKRwPQqbePRAFK5H4Zp49EDXo3A9knP0QNejcD2Sc/RAUrgeheNy9EAK16NwBXT0QOxRuB6Zc/RAzczMzPBt9EAAAAAADG70QArXo3AZb/RAKVyPwq1v9ECamZmZXXL0QIXrUbiCcvRAj8L1KHB09EBmZmZmdnT0QGZmZmY+dPRAZmZmZj509EDhehSue3f0QArXo3BJd/RAPQrXowR19EC4HoXraXT0QB+F61Gsc/RACtejcJVy9EAUrkfhqnD0QOxRuB4tb/RAAAAAAABx9EBxPQrXp3H0QI/C9ShgcvRA7FG4HsFw9EAK16NwLW/0QArXo3Atb/RApHA9Cstv9ECF61G48m30QEjhehTGbfRArkfheoxt9ED2KFyPHmz0QJqZmZkBafRACtejcPVp9EAAAAAAQGL0QFyPwvUYYfRApHA9CkNj9EAAAAAAQGP0QGZmZmZyY/RAAAAAAMBm9EDNzMzMuGf0QEjhehR+afRAMzMzM0Np9EA9CtejvGn0QClcj8KNavRAw/UoXP9r9EBcj8L1fG/0QHsUrkclb/RApHA9Cptv9EBmZmZmJnL0QAAAAABAdvRASOF6FPJ39EAfhetRcHT0QJqZmZm5dPRAZmZmZmJ49EBmZmZmenb0QM3MzMxodfRAzczMzDR49EBI4XoUlnn0QAAAAADAffRAhetRuEKG9EDD9Shcs4L0QBSuR+E2g/RAPQrXoyiB9ECamZmZ7X70QM3MzMyYf/RASOF6FNaF9EA9CtejIIb0QD0K16OEgfRA7FG4HhWH9EAAAAAAQIT0QArXo3BVhvRA16NwPUqF9EDhehSul4X0QJqZmZllh/RAhetRuLKH9EApXI/CuYb0QB+F61HwjPRAMzMzM3OL9EBxPQrXv4z0QAAAAADAkPRAMzMzM2eS9ECamZmZfZD0QKRwPQrfjfRAj8L1KCCN9EAzMzMze4r0QOF6FK5/jvRAcT0K19+M9EAAAAAAYIz0QHE9Ctdvj/RAUrgeheuP9EAAAAAAYIv0QAAAAADohvRAj8L1KDyJ9EA9CtejyIr0QAAAAABAjfRAj8L1KByK9EDsUbgeOYf0QGZmZmZGhvRAPQrXo5SE9EApXI/CLYP0QM3MzMxogvRAmpmZmWGA9EAAAAAAaIH0QFyPwvVIgPRAw/UoXDOB9EB7FK5HnYP0QFyPwvUMg/RAuB6F62V+9EB7FK5H+X30QOxRuB5Nf/RApHA9Co+B9EAzMzMzS4D0QLgeheu9gPRAUrgehceC9EA9CtejlIT0QGZmZmaqh/RArkfheiCG9EBmZmZmroD0QM3MzMwkffRACtejcIF79ECuR+F6YHz0QGZmZmYiffRAcT0K1z9/9EBSuB6Fv4D0QOF6FK7fgPRAH4XrUSCC9EC4HoXreYH0QAAAAADAfPRAexSuR9189EAAAAAA4H70QLgehes1fPRAKVyPwiV+9EBmZmZm/nz0QClcj8I5ffRAAAAAAAB99ECkcD0Kj3v0QOF6FK7/fPRAH4XrUYB+9EAAAAAALH70QHsUrketffRAhetRuBp89ECPwvUooHr0QBSuR+HKd/RAMzMzM7949ECamZmZoXf0QArXo3BJePRAcT0K1z959ECuR+F65Hr0QBSuR+FSfPRAAAAAAOR+9EAAAAAAsIL0QOxRuB61gfRAMzMzM0OC9EDsUbgeUYT0QM3MzMzQgvRAPQrXoyCG9ECPwvUoVIX0QHsUrkeFh/RAPQrXozyF9EDsUbge4YP0QFyPwvXoh/RArkfhemyE9EDXo3A9MoP0QEjhehQqgvRAzczMzKyB9ECamZmZEYD0QFK4HoXXfvRAAAAAACB/9EB7FK5HQX/0QLgeheuFffRA16NwPe599ECPwvUolID0QClcj8KJgPRArkfhemB/9EAK16NwKX/0QM3MzMzEfvRApHA9CnN79EBSuB6Fj3r0QIXrUbiGePRASOF6FDJ49EBI4XoUMnj0QBSuR+HOd/RAhetRuLZ29EDD9ShcK3j0QAAAAAAIevRAZmZmZjZ49EDhehSu/3b0QLgehevtdvRAKVyPwqV69EApXI/CpXr0QAAAAACAevRAXI/C9aR69EBxPQrXX3v0QNejcD3yd/RAAAAAAGB59ECPwvUoGHf0QClcj8KJePRAw/UoXF949EAAAAAAwHb0QKRwPQpfcvRACtejcH1x9EBxPQrX53H0QHE9CtdfcvRAj8L1KCBw9EAAAAAAYHL0QI/C9Sg0c/RA4XoUru929EB7FK5HVXX0QEjhehQadPRArkfhegR19EAAAAAAjHP0QK5H4Xq4cvRAexSuRwFx9EBSuB6Fh3H0QI/C9SigcPRApHA9Cstv9EDD9Shc7270QClcj8LFcPRAPQrXo4xz9EAAAAAA7HL0QBSuR+H6cvRAUrgehVtw9EApXI/CrXH0QK5H4XoscPRASOF6FEJv9ECkcD0Ka2v0QD0K16PUa/RAZmZmZjJt9EAAAAAAoGv0QPYoXI9+bPRAexSuR61r9EAAAAAAwG30QI/C9SiAavRAAAAAAGBs9ECF61G4im70QIXrUbiKbvRAPQrXoyhw9ECkcD0K83P0QKRwPQrzc/RAcT0K12N19ECPwvUocHT0QHE9CtdLcvRA16NwPaZz9ECF61G4UnT0QI/C9Sh0dfRAFK5H4ZJ09EAK16Nw0XT0QK5H4XqodfRAAAAAAKB09EAAAAAAoHT0QFyPwvWocvRAzczMzABz9ECkcD0KF3P0QAAAAADAcvRAXI/C9Tx19EDNzMzMqHL0QD0K16M0cvRAXI/C9dBx9EBxPQrX93P0QHE9Ctc/dPRAAAAAAIh29EDD9Shc13b0QKRwPQrjd/RAFK5H4eJ39EBI4XoU6nj0QBSuR+HKdfRAZmZmZv519EBxPQrXe3b0QBSuR+Emd/RA9ihcj/519ED2KFyP/nX0QPYoXI/+dfRAAAAAAIB19EAAAAAAgHX0QI/C9SgAd/RAFK5H4Vp29ECPwvUogHX0QPYoXI/WcvRAAAAAAPBv9ECPwvUoIHD0QI/C9SggcPRAuB6F66lv9EAfhetROHD0QAAAAACgbvRAj8L1KKBu9EAAAAAAXG30QD0K16N0bvRAuB6F68Vs9EB7FK5HRWr0QLgeheuxa/RAPQrXoxRu9ECamZmZqW30QAAAAADcbfRA",
          "dtype": "f8"
         },
         "decreasing": {
          "line": {
           "color": "red"
          }
         },
         "high": {
          "bdata": "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",
          "dtype": "f8"
         },
         "increasing": {
          "line": {
           "color": "green"
          }
         },
         "line": {
          "width": 1
         },
         "low": {
          "bdata": "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",
          "dtype": "f8"
         },
         "name": "Candles",
         "open": {
          "bdata": "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",
          "dtype": "f8"
         },
         "type": "candlestick",
         "whiskerwidth": 0.2,
         "x": [
          "2025-04-05T00:00:00.000000000",
          "2025-04-05T00:01:00.000000000",
          "2025-04-05T00:02:00.000000000",
          "2025-04-05T00:03:00.000000000",
          "2025-04-05T00:04:00.000000000",
          "2025-04-05T00:05:00.000000000",
          "2025-04-05T00:06:00.000000000",
          "2025-04-05T00:07:00.000000000",
          "2025-04-05T00:08:00.000000000",
          "2025-04-05T00:09:00.000000000",
          "2025-04-05T00:10:00.000000000",
          "2025-04-05T00:11:00.000000000",
          "2025-04-05T00:12:00.000000000",
          "2025-04-05T00:13:00.000000000",
          "2025-04-05T00:14:00.000000000",
          "2025-04-05T00:15:00.000000000",
          "2025-04-05T00:16:00.000000000",
          "2025-04-05T00:17:00.000000000",
          "2025-04-05T00:18:00.000000000",
          "2025-04-05T00:19:00.000000000",
          "2025-04-05T00:20:00.000000000",
          "2025-04-05T00:21:00.000000000",
          "2025-04-05T00:22:00.000000000",
          "2025-04-05T00:23:00.000000000",
          "2025-04-05T00:24:00.000000000",
          "2025-04-05T00:25:00.000000000",
          "2025-04-05T00:26:00.000000000",
          "2025-04-05T00:27:00.000000000",
          "2025-04-05T00:28:00.000000000",
          "2025-04-05T00:29:00.000000000",
          "2025-04-05T00:30:00.000000000",
          "2025-04-05T00:31:00.000000000",
          "2025-04-05T00:32:00.000000000",
          "2025-04-05T00:33:00.000000000",
          "2025-04-05T00:34:00.000000000",
          "2025-04-05T00:35:00.000000000",
          "2025-04-05T00:36:00.000000000",
          "2025-04-05T00:37:00.000000000",
          "2025-04-05T00:38:00.000000000",
          "2025-04-05T00:39:00.000000000",
          "2025-04-05T00:40:00.000000000",
          "2025-04-05T00:41:00.000000000",
          "2025-04-05T00:42:00.000000000",
          "2025-04-05T00:43:00.000000000",
          "2025-04-05T00:44:00.000000000",
          "2025-04-05T00:45:00.000000000",
          "2025-04-05T00:46:00.000000000",
          "2025-04-05T00:47:00.000000000",
          "2025-04-05T00:48:00.000000000",
          "2025-04-05T00:49:00.000000000",
          "2025-04-05T00:50:00.000000000",
          "2025-04-05T00:51:00.000000000",
          "2025-04-05T00:52:00.000000000",
          "2025-04-05T00:53:00.000000000",
          "2025-04-05T00:54:00.000000000",
          "2025-04-05T00:55:00.000000000",
          "2025-04-05T00:56:00.000000000",
          "2025-04-05T00:57:00.000000000",
          "2025-04-05T00:58:00.000000000",
          "2025-04-05T00:59:00.000000000",
          "2025-04-05T01:00:00.000000000",
          "2025-04-05T01:01:00.000000000",
          "2025-04-05T01:02:00.000000000",
          "2025-04-05T01:03:00.000000000",
          "2025-04-05T01:04:00.000000000",
          "2025-04-05T01:05:00.000000000",
          "2025-04-05T01:06:00.000000000",
          "2025-04-05T01:07:00.000000000",
          "2025-04-05T01:08:00.000000000",
          "2025-04-05T01:09:00.000000000",
          "2025-04-05T01:10:00.000000000",
          "2025-04-05T01:11:00.000000000",
          "2025-04-05T01:12:00.000000000",
          "2025-04-05T01:13:00.000000000",
          "2025-04-05T01:14:00.000000000",
          "2025-04-05T01:15:00.000000000",
          "2025-04-05T01:16:00.000000000",
          "2025-04-05T01:17:00.000000000",
          "2025-04-05T01:18:00.000000000",
          "2025-04-05T01:19:00.000000000",
          "2025-04-05T01:20:00.000000000",
          "2025-04-05T01:21:00.000000000",
          "2025-04-05T01:22:00.000000000",
          "2025-04-05T01:23:00.000000000",
          "2025-04-05T01:24:00.000000000",
          "2025-04-05T01:25:00.000000000",
          "2025-04-05T01:26:00.000000000",
          "2025-04-05T01:27:00.000000000",
          "2025-04-05T01:28:00.000000000",
          "2025-04-05T01:29:00.000000000",
          "2025-04-05T01:30:00.000000000",
          "2025-04-05T01:31:00.000000000",
          "2025-04-05T01:32:00.000000000",
          "2025-04-05T01:33:00.000000000",
          "2025-04-05T01:34:00.000000000",
          "2025-04-05T01:35:00.000000000",
          "2025-04-05T01:36:00.000000000",
          "2025-04-05T01:37:00.000000000",
          "2025-04-05T01:38:00.000000000",
          "2025-04-05T01:39:00.000000000",
          "2025-04-05T01:40:00.000000000",
          "2025-04-05T01:41:00.000000000",
          "2025-04-05T01:42:00.000000000",
          "2025-04-05T01:43:00.000000000",
          "2025-04-05T01:44:00.000000000",
          "2025-04-05T01:45:00.000000000",
          "2025-04-05T01:46:00.000000000",
          "2025-04-05T01:47:00.000000000",
          "2025-04-05T01:48:00.000000000",
          "2025-04-05T01:49:00.000000000",
          "2025-04-05T01:50:00.000000000",
          "2025-04-05T01:51:00.000000000",
          "2025-04-05T01:52:00.000000000",
          "2025-04-05T01:53:00.000000000",
          "2025-04-05T01:54:00.000000000",
          "2025-04-05T01:55:00.000000000",
          "2025-04-05T01:56:00.000000000",
          "2025-04-05T01:57:00.000000000",
          "2025-04-05T01:58:00.000000000",
          "2025-04-05T01:59:00.000000000",
          "2025-04-05T02:00:00.000000000",
          "2025-04-05T02:01:00.000000000",
          "2025-04-05T02:02:00.000000000",
          "2025-04-05T02:03:00.000000000",
          "2025-04-05T02:04:00.000000000",
          "2025-04-05T02:05:00.000000000",
          "2025-04-05T02:06:00.000000000",
          "2025-04-05T02:07:00.000000000",
          "2025-04-05T02:08:00.000000000",
          "2025-04-05T02:09:00.000000000",
          "2025-04-05T02:10:00.000000000",
          "2025-04-05T02:11:00.000000000",
          "2025-04-05T02:12:00.000000000",
          "2025-04-05T02:13:00.000000000",
          "2025-04-05T02:14:00.000000000",
          "2025-04-05T02:15:00.000000000",
          "2025-04-05T02:16:00.000000000",
          "2025-04-05T02:17:00.000000000",
          "2025-04-05T02:18:00.000000000",
          "2025-04-05T02:19:00.000000000",
          "2025-04-05T02:20:00.000000000",
          "2025-04-05T02:21:00.000000000",
          "2025-04-05T02:22:00.000000000",
          "2025-04-05T02:23:00.000000000",
          "2025-04-05T02:24:00.000000000",
          "2025-04-05T02:25:00.000000000",
          "2025-04-05T02:26:00.000000000",
          "2025-04-05T02:27:00.000000000",
          "2025-04-05T02:28:00.000000000",
          "2025-04-05T02:29:00.000000000",
          "2025-04-05T02:30:00.000000000",
          "2025-04-05T02:31:00.000000000",
          "2025-04-05T02:32:00.000000000",
          "2025-04-05T02:33:00.000000000",
          "2025-04-05T02:34:00.000000000",
          "2025-04-05T02:35:00.000000000",
          "2025-04-05T02:36:00.000000000",
          "2025-04-05T02:37:00.000000000",
          "2025-04-05T02:38:00.000000000",
          "2025-04-05T02:39:00.000000000",
          "2025-04-05T02:40:00.000000000",
          "2025-04-05T02:41:00.000000000",
          "2025-04-05T02:42:00.000000000",
          "2025-04-05T02:43:00.000000000",
          "2025-04-05T02:44:00.000000000",
          "2025-04-05T02:45:00.000000000",
          "2025-04-05T02:46:00.000000000",
          "2025-04-05T02:47:00.000000000",
          "2025-04-05T02:48:00.000000000",
          "2025-04-05T02:49:00.000000000",
          "2025-04-05T02:50:00.000000000",
          "2025-04-05T02:51:00.000000000",
          "2025-04-05T02:52:00.000000000",
          "2025-04-05T02:53:00.000000000",
          "2025-04-05T02:54:00.000000000",
          "2025-04-05T02:55:00.000000000",
          "2025-04-05T02:56:00.000000000",
          "2025-04-05T02:57:00.000000000",
          "2025-04-05T02:58:00.000000000",
          "2025-04-05T02:59:00.000000000",
          "2025-04-05T03:00:00.000000000",
          "2025-04-05T03:01:00.000000000",
          "2025-04-05T03:02:00.000000000",
          "2025-04-05T03:03:00.000000000",
          "2025-04-05T03:04:00.000000000",
          "2025-04-05T03:05:00.000000000",
          "2025-04-05T03:06:00.000000000",
          "2025-04-05T03:07:00.000000000",
          "2025-04-05T03:08:00.000000000",
          "2025-04-05T03:09:00.000000000",
          "2025-04-05T03:10:00.000000000",
          "2025-04-05T03:11:00.000000000",
          "2025-04-05T03:12:00.000000000",
          "2025-04-05T03:13:00.000000000",
          "2025-04-05T03:14:00.000000000",
          "2025-04-05T03:15:00.000000000",
          "2025-04-05T03:16:00.000000000",
          "2025-04-05T03:17:00.000000000",
          "2025-04-05T03:18:00.000000000",
          "2025-04-05T03:19:00.000000000",
          "2025-04-05T03:20:00.000000000",
          "2025-04-05T03:21:00.000000000",
          "2025-04-05T03:22:00.000000000",
          "2025-04-05T03:23:00.000000000",
          "2025-04-05T03:24:00.000000000",
          "2025-04-05T03:25:00.000000000",
          "2025-04-05T03:26:00.000000000",
          "2025-04-05T03:27:00.000000000",
          "2025-04-05T03:28:00.000000000",
          "2025-04-05T03:29:00.000000000",
          "2025-04-05T03:30:00.000000000",
          "2025-04-05T03:31:00.000000000",
          "2025-04-05T03:32:00.000000000",
          "2025-04-05T03:33:00.000000000",
          "2025-04-05T03:34:00.000000000",
          "2025-04-05T03:35:00.000000000",
          "2025-04-05T03:36:00.000000000",
          "2025-04-05T03:37:00.000000000",
          "2025-04-05T03:38:00.000000000",
          "2025-04-05T03:39:00.000000000",
          "2025-04-05T03:40:00.000000000",
          "2025-04-05T03:41:00.000000000",
          "2025-04-05T03:42:00.000000000",
          "2025-04-05T03:43:00.000000000",
          "2025-04-05T03:44:00.000000000",
          "2025-04-05T03:45:00.000000000",
          "2025-04-05T03:46:00.000000000",
          "2025-04-05T03:47:00.000000000",
          "2025-04-05T03:48:00.000000000",
          "2025-04-05T03:49:00.000000000",
          "2025-04-05T03:50:00.000000000",
          "2025-04-05T03:51:00.000000000",
          "2025-04-05T03:52:00.000000000",
          "2025-04-05T03:53:00.000000000",
          "2025-04-05T03:54:00.000000000",
          "2025-04-05T03:55:00.000000000",
          "2025-04-05T03:56:00.000000000",
          "2025-04-05T03:57:00.000000000",
          "2025-04-05T03:58:00.000000000",
          "2025-04-05T03:59:00.000000000",
          "2025-04-05T04:00:00.000000000",
          "2025-04-05T04:01:00.000000000",
          "2025-04-05T04:02:00.000000000",
          "2025-04-05T04:03:00.000000000",
          "2025-04-05T04:04:00.000000000",
          "2025-04-05T04:05:00.000000000",
          "2025-04-05T04:06:00.000000000",
          "2025-04-05T04:07:00.000000000",
          "2025-04-05T04:08:00.000000000",
          "2025-04-05T04:09:00.000000000",
          "2025-04-05T04:10:00.000000000",
          "2025-04-05T04:11:00.000000000",
          "2025-04-05T04:12:00.000000000",
          "2025-04-05T04:13:00.000000000",
          "2025-04-05T04:14:00.000000000",
          "2025-04-05T04:15:00.000000000",
          "2025-04-05T04:16:00.000000000",
          "2025-04-05T04:17:00.000000000",
          "2025-04-05T04:18:00.000000000",
          "2025-04-05T04:19:00.000000000",
          "2025-04-05T04:20:00.000000000",
          "2025-04-05T04:21:00.000000000",
          "2025-04-05T04:22:00.000000000",
          "2025-04-05T04:23:00.000000000",
          "2025-04-05T04:24:00.000000000",
          "2025-04-05T04:25:00.000000000",
          "2025-04-05T04:26:00.000000000",
          "2025-04-05T04:27:00.000000000",
          "2025-04-05T04:28:00.000000000",
          "2025-04-05T04:29:00.000000000",
          "2025-04-05T04:30:00.000000000",
          "2025-04-05T04:31:00.000000000",
          "2025-04-05T04:32:00.000000000",
          "2025-04-05T04:33:00.000000000",
          "2025-04-05T04:34:00.000000000",
          "2025-04-05T04:35:00.000000000",
          "2025-04-05T04:36:00.000000000",
          "2025-04-05T04:37:00.000000000",
          "2025-04-05T04:38:00.000000000",
          "2025-04-05T04:39:00.000000000",
          "2025-04-05T04:40:00.000000000",
          "2025-04-05T04:41:00.000000000",
          "2025-04-05T04:42:00.000000000",
          "2025-04-05T04:43:00.000000000",
          "2025-04-05T04:44:00.000000000",
          "2025-04-05T04:45:00.000000000",
          "2025-04-05T04:46:00.000000000",
          "2025-04-05T04:47:00.000000000",
          "2025-04-05T04:48:00.000000000",
          "2025-04-05T04:49:00.000000000",
          "2025-04-05T04:50:00.000000000",
          "2025-04-05T04:51:00.000000000",
          "2025-04-05T04:52:00.000000000",
          "2025-04-05T04:53:00.000000000",
          "2025-04-05T04:54:00.000000000",
          "2025-04-05T04:55:00.000000000",
          "2025-04-05T04:56:00.000000000",
          "2025-04-05T04:57:00.000000000",
          "2025-04-05T04:58:00.000000000",
          "2025-04-05T04:59:00.000000000"
         ]
        }
       ],
       "layout": {
        "template": {
         "data": {
          "bar": [
           {
            "error_x": {
             "color": "#f2f5fa"
            },
            "error_y": {
             "color": "#f2f5fa"
            },
            "marker": {
             "line": {
              "color": "rgb(17,17,17)",
              "width": 0.5
             },
             "pattern": {
              "fillmode": "overlay",
              "size": 10,
              "solidity": 0.2
             }
            },
            "type": "bar"
           }
          ],
          "barpolar": [
           {
            "marker": {
             "line": {
              "color": "rgb(17,17,17)",
              "width": 0.5
             },
             "pattern": {
              "fillmode": "overlay",
              "size": 10,
              "solidity": 0.2
             }
            },
            "type": "barpolar"
           }
          ],
          "carpet": [
           {
            "aaxis": {
             "endlinecolor": "#A2B1C6",
             "gridcolor": "#506784",
             "linecolor": "#506784",
             "minorgridcolor": "#506784",
             "startlinecolor": "#A2B1C6"
            },
            "baxis": {
             "endlinecolor": "#A2B1C6",
             "gridcolor": "#506784",
             "linecolor": "#506784",
             "minorgridcolor": "#506784",
             "startlinecolor": "#A2B1C6"
            },
            "type": "carpet"
           }
          ],
          "choropleth": [
           {
            "colorbar": {
             "outlinewidth": 0,
             "ticks": ""
            },
            "type": "choropleth"
           }
          ],
          "contour": [
           {
            "colorbar": {
             "outlinewidth": 0,
             "ticks": ""
            },
            "colorscale": [
             [
              0,
              "#0d0887"
             ],
             [
              0.1111111111111111,
              "#46039f"
             ],
             [
              0.2222222222222222,
              "#7201a8"
             ],
             [
              0.3333333333333333,
              "#9c179e"
             ],
             [
              0.4444444444444444,
              "#bd3786"
             ],
             [
              0.5555555555555556,
              "#d8576b"
             ],
             [
              0.6666666666666666,
              "#ed7953"
             ],
             [
              0.7777777777777778,
              "#fb9f3a"
             ],
             [
              0.8888888888888888,
              "#fdca26"
             ],
             [
              1,
              "#f0f921"
             ]
            ],
            "type": "contour"
           }
          ],
          "contourcarpet": [
           {
            "colorbar": {
             "outlinewidth": 0,
             "ticks": ""
            },
            "type": "contourcarpet"
           }
          ],
          "heatmap": [
           {
            "colorbar": {
             "outlinewidth": 0,
             "ticks": ""
            },
            "colorscale": [
             [
              0,
              "#0d0887"
             ],
             [
              0.1111111111111111,
              "#46039f"
             ],
             [
              0.2222222222222222,
              "#7201a8"
             ],
             [
              0.3333333333333333,
              "#9c179e"
             ],
             [
              0.4444444444444444,
              "#bd3786"
             ],
             [
              0.5555555555555556,
              "#d8576b"
             ],
             [
              0.6666666666666666,
              "#ed7953"
             ],
             [
              0.7777777777777778,
              "#fb9f3a"
             ],
             [
              0.8888888888888888,
              "#fdca26"
             ],
             [
              1,
              "#f0f921"
             ]
            ],
            "type": "heatmap"
           }
          ],
          "histogram": [
           {
            "marker": {
             "pattern": {
              "fillmode": "overlay",
              "size": 10,
              "solidity": 0.2
             }
            },
            "type": "histogram"
           }
          ],
          "histogram2d": [
           {
            "colorbar": {
             "outlinewidth": 0,
             "ticks": ""
            },
            "colorscale": [
             [
              0,
              "#0d0887"
             ],
             [
              0.1111111111111111,
              "#46039f"
             ],
             [
              0.2222222222222222,
              "#7201a8"
             ],
             [
              0.3333333333333333,
              "#9c179e"
             ],
             [
              0.4444444444444444,
              "#bd3786"
             ],
             [
              0.5555555555555556,
              "#d8576b"
             ],
             [
              0.6666666666666666,
              "#ed7953"
             ],
             [
              0.7777777777777778,
              "#fb9f3a"
             ],
             [
              0.8888888888888888,
              "#fdca26"
             ],
             [
              1,
              "#f0f921"
             ]
            ],
            "type": "histogram2d"
           }
          ],
          "histogram2dcontour": [
           {
            "colorbar": {
             "outlinewidth": 0,
             "ticks": ""
            },
            "colorscale": [
             [
              0,
              "#0d0887"
             ],
             [
              0.1111111111111111,
              "#46039f"
             ],
             [
              0.2222222222222222,
              "#7201a8"
             ],
             [
              0.3333333333333333,
              "#9c179e"
             ],
             [
              0.4444444444444444,
              "#bd3786"
             ],
             [
              0.5555555555555556,
              "#d8576b"
             ],
             [
              0.6666666666666666,
              "#ed7953"
             ],
             [
              0.7777777777777778,
              "#fb9f3a"
             ],
             [
              0.8888888888888888,
              "#fdca26"
             ],
             [
              1,
              "#f0f921"
             ]
            ],
            "type": "histogram2dcontour"
           }
          ],
          "mesh3d": [
           {
            "colorbar": {
             "outlinewidth": 0,
             "ticks": ""
            },
            "type": "mesh3d"
           }
          ],
          "parcoords": [
           {
            "line": {
             "colorbar": {
              "outlinewidth": 0,
              "ticks": ""
             }
            },
            "type": "parcoords"
           }
          ],
          "pie": [
           {
            "automargin": true,
            "type": "pie"
           }
          ],
          "scatter": [
           {
            "marker": {
             "line": {
              "color": "#283442"
             }
            },
            "type": "scatter"
           }
          ],
          "scatter3d": [
           {
            "line": {
             "colorbar": {
              "outlinewidth": 0,
              "ticks": ""
             }
            },
            "marker": {
             "colorbar": {
              "outlinewidth": 0,
              "ticks": ""
             }
            },
            "type": "scatter3d"
           }
          ],
          "scattercarpet": [
           {
            "marker": {
             "colorbar": {
              "outlinewidth": 0,
              "ticks": ""
             }
            },
            "type": "scattercarpet"
           }
          ],
          "scattergeo": [
           {
            "marker": {
             "colorbar": {
              "outlinewidth": 0,
              "ticks": ""
             }
            },
            "type": "scattergeo"
           }
          ],
          "scattergl": [
           {
            "marker": {
             "line": {
              "color": "#283442"
             }
            },
            "type": "scattergl"
           }
          ],
          "scattermap": [
           {
            "marker": {
             "colorbar": {
              "outlinewidth": 0,
              "ticks": ""
             }
            },
            "type": "scattermap"
           }
          ],
          "scattermapbox": [
           {
            "marker": {
             "colorbar": {
              "outlinewidth": 0,
              "ticks": ""
             }
            },
            "type": "scattermapbox"
           }
          ],
          "scatterpolar": [
           {
            "marker": {
             "colorbar": {
              "outlinewidth": 0,
              "ticks": ""
             }
            },
            "type": "scatterpolar"
           }
          ],
          "scatterpolargl": [
           {
            "marker": {
             "colorbar": {
              "outlinewidth": 0,
              "ticks": ""
             }
            },
            "type": "scatterpolargl"
           }
          ],
          "scatterternary": [
           {
            "marker": {
             "colorbar": {
              "outlinewidth": 0,
              "ticks": ""
             }
            },
            "type": "scatterternary"
           }
          ],
          "surface": [
           {
            "colorbar": {
             "outlinewidth": 0,
             "ticks": ""
            },
            "colorscale": [
             [
              0,
              "#0d0887"
             ],
             [
              0.1111111111111111,
              "#46039f"
             ],
             [
              0.2222222222222222,
              "#7201a8"
             ],
             [
              0.3333333333333333,
              "#9c179e"
             ],
             [
              0.4444444444444444,
              "#bd3786"
             ],
             [
              0.5555555555555556,
              "#d8576b"
             ],
             [
              0.6666666666666666,
              "#ed7953"
             ],
             [
              0.7777777777777778,
              "#fb9f3a"
             ],
             [
              0.8888888888888888,
              "#fdca26"
             ],
             [
              1,
              "#f0f921"
             ]
            ],
            "type": "surface"
           }
          ],
          "table": [
           {
            "cells": {
             "fill": {
              "color": "#506784"
             },
             "line": {
              "color": "rgb(17,17,17)"
             }
            },
            "header": {
             "fill": {
              "color": "#2a3f5f"
             },
             "line": {
              "color": "rgb(17,17,17)"
             }
            },
            "type": "table"
           }
          ]
         },
         "layout": {
          "annotationdefaults": {
           "arrowcolor": "#f2f5fa",
           "arrowhead": 0,
           "arrowwidth": 1
          },
          "autotypenumbers": "strict",
          "coloraxis": {
           "colorbar": {
            "outlinewidth": 0,
            "ticks": ""
           }
          },
          "colorscale": {
           "diverging": [
            [
             0,
             "#8e0152"
            ],
            [
             0.1,
             "#c51b7d"
            ],
            [
             0.2,
             "#de77ae"
            ],
            [
             0.3,
             "#f1b6da"
            ],
            [
             0.4,
             "#fde0ef"
            ],
            [
             0.5,
             "#f7f7f7"
            ],
            [
             0.6,
             "#e6f5d0"
            ],
            [
             0.7,
             "#b8e186"
            ],
            [
             0.8,
             "#7fbc41"
            ],
            [
             0.9,
             "#4d9221"
            ],
            [
             1,
             "#276419"
            ]
           ],
           "sequential": [
            [
             0,
             "#0d0887"
            ],
            [
             0.1111111111111111,
             "#46039f"
            ],
            [
             0.2222222222222222,
             "#7201a8"
            ],
            [
             0.3333333333333333,
             "#9c179e"
            ],
            [
             0.4444444444444444,
             "#bd3786"
            ],
            [
             0.5555555555555556,
             "#d8576b"
            ],
            [
             0.6666666666666666,
             "#ed7953"
            ],
            [
             0.7777777777777778,
             "#fb9f3a"
            ],
            [
             0.8888888888888888,
             "#fdca26"
            ],
            [
             1,
             "#f0f921"
            ]
           ],
           "sequentialminus": [
            [
             0,
             "#0d0887"
            ],
            [
             0.1111111111111111,
             "#46039f"
            ],
            [
             0.2222222222222222,
             "#7201a8"
            ],
            [
             0.3333333333333333,
             "#9c179e"
            ],
            [
             0.4444444444444444,
             "#bd3786"
            ],
            [
             0.5555555555555556,
             "#d8576b"
            ],
            [
             0.6666666666666666,
             "#ed7953"
            ],
            [
             0.7777777777777778,
             "#fb9f3a"
            ],
            [
             0.8888888888888888,
             "#fdca26"
            ],
            [
             1,
             "#f0f921"
            ]
           ]
          },
          "colorway": [
           "#636efa",
           "#EF553B",
           "#00cc96",
           "#ab63fa",
           "#FFA15A",
           "#19d3f3",
           "#FF6692",
           "#B6E880",
           "#FF97FF",
           "#FECB52"
          ],
          "font": {
           "color": "#f2f5fa"
          },
          "geo": {
           "bgcolor": "rgb(17,17,17)",
           "lakecolor": "rgb(17,17,17)",
           "landcolor": "rgb(17,17,17)",
           "showlakes": true,
           "showland": true,
           "subunitcolor": "#506784"
          },
          "hoverlabel": {
           "align": "left"
          },
          "hovermode": "closest",
          "mapbox": {
           "style": "dark"
          },
          "paper_bgcolor": "rgb(17,17,17)",
          "plot_bgcolor": "rgb(17,17,17)",
          "polar": {
           "angularaxis": {
            "gridcolor": "#506784",
            "linecolor": "#506784",
            "ticks": ""
           },
           "bgcolor": "rgb(17,17,17)",
           "radialaxis": {
            "gridcolor": "#506784",
            "linecolor": "#506784",
            "ticks": ""
           }
          },
          "scene": {
           "xaxis": {
            "backgroundcolor": "rgb(17,17,17)",
            "gridcolor": "#506784",
            "gridwidth": 2,
            "linecolor": "#506784",
            "showbackground": true,
            "ticks": "",
            "zerolinecolor": "#C8D4E3"
           },
           "yaxis": {
            "backgroundcolor": "rgb(17,17,17)",
            "gridcolor": "#506784",
            "gridwidth": 2,
            "linecolor": "#506784",
            "showbackground": true,
            "ticks": "",
            "zerolinecolor": "#C8D4E3"
           },
           "zaxis": {
            "backgroundcolor": "rgb(17,17,17)",
            "gridcolor": "#506784",
            "gridwidth": 2,
            "linecolor": "#506784",
            "showbackground": true,
            "ticks": "",
            "zerolinecolor": "#C8D4E3"
           }
          },
          "shapedefaults": {
           "line": {
            "color": "#f2f5fa"
           }
          },
          "sliderdefaults": {
           "bgcolor": "#C8D4E3",
           "bordercolor": "rgb(17,17,17)",
           "borderwidth": 1,
           "tickwidth": 0
          },
          "ternary": {
           "aaxis": {
            "gridcolor": "#506784",
            "linecolor": "#506784",
            "ticks": ""
           },
           "baxis": {
            "gridcolor": "#506784",
            "linecolor": "#506784",
            "ticks": ""
           },
           "bgcolor": "rgb(17,17,17)",
           "caxis": {
            "gridcolor": "#506784",
            "linecolor": "#506784",
            "ticks": ""
           }
          },
          "title": {
           "x": 0.05
          },
          "updatemenudefaults": {
           "bgcolor": "#506784",
           "borderwidth": 0
          },
          "xaxis": {
           "automargin": true,
           "gridcolor": "#283442",
           "linecolor": "#506784",
           "ticks": "",
           "title": {
            "standoff": 15
           },
           "zerolinecolor": "#283442",
           "zerolinewidth": 2
          },
          "yaxis": {
           "automargin": true,
           "gridcolor": "#283442",
           "linecolor": "#506784",
           "ticks": "",
           "title": {
            "standoff": 15
           },
           "zerolinecolor": "#283442",
           "zerolinewidth": 2
          }
         }
        },
        "title": {
         "text": "Candlestick Chart"
        },
        "xaxis": {
         "rangeslider": {
          "visible": false
         },
         "title": {
          "text": "Time"
         }
        },
        "yaxis": {
         "title": {
          "text": "Price"
         }
        }
       }
      }
     },
     "metadata": {},
     "output_type": "display_data"
    }
   ],
   "source": [
    "candle_visualizer.plot_candlestick(data.iloc[:300])"
   ]
  },
  {
   "cell_type": "code",
   "execution_count": 21,
   "metadata": {},
   "outputs": [
    {
     "name": "stdout",
     "output_type": "stream",
     "text": [
      "Num nan values in EMA with span 20: 20\n",
      "Num nan values in EMA with span 50: 50\n",
      "Num nan values in EMA with span 100: 100\n",
      "Num nan values in EMA with span 20: 20\n",
      "Num nan values in EMA with span 12: 12\n",
      "Num nan values in EMA with span 26: 26\n",
      "Num nan values in EMA with span 9: 26\n"
     ]
    }
   ],
   "source": [
    "features = feature_generator.transform(data)"
   ]
  },
  {
   "cell_type": "code",
   "execution_count": 22,
   "metadata": {},
   "outputs": [
    {
     "data": {
      "text/html": [
       "<div>\n",
       "<style scoped>\n",
       "    .dataframe tbody tr th:only-of-type {\n",
       "        vertical-align: middle;\n",
       "    }\n",
       "\n",
       "    .dataframe tbody tr th {\n",
       "        vertical-align: top;\n",
       "    }\n",
       "\n",
       "    .dataframe thead th {\n",
       "        text-align: right;\n",
       "    }\n",
       "</style>\n",
       "<table border=\"1\" class=\"dataframe\">\n",
       "  <thead>\n",
       "    <tr style=\"text-align: right;\">\n",
       "      <th></th>\n",
       "      <th>ema_base</th>\n",
       "      <th>close</th>\n",
       "    </tr>\n",
       "  </thead>\n",
       "  <tbody>\n",
       "    <tr>\n",
       "      <th>0</th>\n",
       "      <td>83781.622476</td>\n",
       "      <td>83828.59</td>\n",
       "    </tr>\n",
       "    <tr>\n",
       "      <th>1</th>\n",
       "      <td>83782.638431</td>\n",
       "      <td>83792.29</td>\n",
       "    </tr>\n",
       "    <tr>\n",
       "      <th>2</th>\n",
       "      <td>83782.636675</td>\n",
       "      <td>83782.62</td>\n",
       "    </tr>\n",
       "    <tr>\n",
       "      <th>3</th>\n",
       "      <td>83781.506516</td>\n",
       "      <td>83770.77</td>\n",
       "    </tr>\n",
       "    <tr>\n",
       "      <th>4</th>\n",
       "      <td>83778.823991</td>\n",
       "      <td>83753.34</td>\n",
       "    </tr>\n",
       "  </tbody>\n",
       "</table>\n",
       "</div>"
      ],
      "text/plain": [
       "       ema_base     close\n",
       "0  83781.622476  83828.59\n",
       "1  83782.638431  83792.29\n",
       "2  83782.636675  83782.62\n",
       "3  83781.506516  83770.77\n",
       "4  83778.823991  83753.34"
      ]
     },
     "execution_count": 22,
     "metadata": {},
     "output_type": "execute_result"
    }
   ],
   "source": [
    "features.head()[['ema_base', 'close']]"
   ]
  },
  {
   "cell_type": "markdown",
   "metadata": {},
   "source": [
    "## ENV test"
   ]
  },
  {
   "cell_type": "code",
   "execution_count": 30,
   "metadata": {},
   "outputs": [],
   "source": [
    "feature_states = np.array(features.state_vector.tolist())"
   ]
  },
  {
   "cell_type": "code",
   "execution_count": 40,
   "metadata": {},
   "outputs": [
    {
     "data": {
      "text/plain": [
       "(5414, 16)"
      ]
     },
     "execution_count": 40,
     "metadata": {},
     "output_type": "execute_result"
    }
   ],
   "source": [
    "feature_states.shape"
   ]
  },
  {
   "cell_type": "code",
   "execution_count": 31,
   "metadata": {},
   "outputs": [],
   "source": [
    "from custom_envs.trading_env_v1 import TradingEnvV1"
   ]
  },
  {
   "cell_type": "code",
   "execution_count": 32,
   "metadata": {},
   "outputs": [
    {
     "data": {
      "image/png": "[encoded data removed]",
      "text/plain": [
       "<Figure size 1000x400 with 1 Axes>"
      ]
     },
     "metadata": {},
     "output_type": "display_data"
    }
   ],
   "source": [
    "import numpy as np\n",
    "import matplotlib.pyplot as plt\n",
    "from IPython.display import clear_output\n",
    "\n",
    "# Предположим, что features уже загружены\n",
    "env = TradingEnvV1(features=feature_states)\n",
    "\n",
    "obs, _ = env.reset()\n",
    "done = False\n",
    "rewards = []\n",
    "\n",
    "for i in range(1000):\n",
    "    possible_actions = env.get_possible_actions()\n",
    "    action = np.random.choice(possible_actions)\n",
    "    obs, reward, done, truncated, info = env.step(action)\n",
    "    rewards.append(env.pnl)\n",
    "\n",
    "    if i % 100 == 0:\n",
    "        print(f\"Step: {i}, Action: {action}, PnL: {env.pnl:.2f}\")\n",
    "        # Отрисовка графика\n",
    "        clear_output(wait=True)\n",
    "        plt.figure(figsize=(10, 4))\n",
    "        plt.plot(rewards, label='Cumulative PnL')\n",
    "        plt.xlabel(\"Step\")\n",
    "        plt.ylabel(\"PNL\")\n",
    "        plt.title(\"Trading PNL over time\")\n",
    "        plt.grid(True)\n",
    "        plt.legend()\n",
    "        plt.show()"
   ]
  },
  {
   "cell_type": "code",
   "execution_count": null,
   "metadata": {},
   "outputs": [],
   "source": [
    "import torch\n",
    "import torch.nn as nn\n",
    "import torch.nn.functional as F\n",
    "\n",
    "class QNetwork(nn.Module):\n",
    "    def __init__(self, state_dim: int, action_dim: int):\n",
    "        super().__init__()\n",
    "        self.net = nn.Sequential(\n",
    "            nn.Linear(state_dim, 128),\n",
    "            nn.ReLU(),\n",
    "            nn.Linear(128, 128),\n",
    "            nn.ReLU(),\n",
    "            nn.Linear(256, 128),\n",
    "            nn.ReLU(),\n",
    "            nn.Linear(128, 64),\n",
    "            nn.ReLU(),\n",
    "            nn.Linear(64, action_dim)\n",
    "        )\n",
    "\n",
    "    def forward(self, x):\n",
    "        return self.net(x)"
   ]
  },
  {
   "cell_type": "code",
   "execution_count": 43,
   "metadata": {},
   "outputs": [],
   "source": [
    "import random\n",
    "import numpy as np\n",
    "from collections import deque\n",
    "\n",
    "class DQNAgent:\n",
    "    def __init__(\n",
    "        self, state_dim, action_dim, lr=1e-3, gamma=0.99,\n",
    "        batch_size=64, buffer_size=100_000, epsilon_start=1.0,\n",
    "        epsilon_end=0.1, epsilon_decay=0.995\n",
    "    ):\n",
    "        self.state_dim = state_dim\n",
    "        self.action_dim = action_dim\n",
    "        self.gamma = gamma\n",
    "        self.batch_size = batch_size\n",
    "\n",
    "        self.q_network = QNetwork(state_dim, action_dim)\n",
    "        self.target_network = QNetwork(state_dim, action_dim)\n",
    "        self.optimizer = torch.optim.Adam(self.q_network.parameters(), lr=lr)\n",
    "\n",
    "        self.replay_buffer = deque(maxlen=buffer_size)\n",
    "\n",
    "        self.epsilon = epsilon_start\n",
    "        self.epsilon_end = epsilon_end\n",
    "        self.epsilon_decay = epsilon_decay\n",
    "\n",
    "        self.update_target_network()\n",
    "\n",
    "    def update_target_network(self):\n",
    "        self.target_network.load_state_dict(self.q_network.state_dict())\n",
    "\n",
    "    def act(self, state):\n",
    "        if random.random() < self.epsilon:\n",
    "            return random.randint(0, self.action_dim - 1)\n",
    "        with torch.no_grad():\n",
    "            state_tensor = torch.tensor(state, dtype=torch.float32).unsqueeze(0)\n",
    "            q_values = self.q_network(state_tensor)\n",
    "            return int(torch.argmax(q_values).item())\n",
    "\n",
    "    def store(self, state, action, reward, next_state, done):\n",
    "        self.replay_buffer.append((state, action, reward, next_state, done))\n",
    "\n",
    "    def train_step(self):\n",
    "        if len(self.replay_buffer) < self.batch_size:\n",
    "            return\n",
    "\n",
    "        batch = random.sample(self.replay_buffer, self.batch_size)\n",
    "        states, actions, rewards, next_states, dones = zip(*batch)\n",
    "\n",
    "        states = torch.tensor(states, dtype=torch.float32)\n",
    "        actions = torch.tensor(actions).unsqueeze(1)\n",
    "        rewards = torch.tensor(rewards, dtype=torch.float32).unsqueeze(1)\n",
    "        next_states = torch.tensor(next_states, dtype=torch.float32)\n",
    "        dones = torch.tensor(dones, dtype=torch.float32).unsqueeze(1)\n",
    "\n",
    "        q_values = self.q_network(states).gather(1, actions)\n",
    "        next_q_values = self.target_network(next_states).max(1, keepdim=True)[0].detach()\n",
    "        target = rewards + (1 - dones) * self.gamma * next_q_values\n",
    "\n",
    "        loss = F.mse_loss(q_values, target)\n",
    "\n",
    "        self.optimizer.zero_grad()\n",
    "        loss.backward()\n",
    "        self.optimizer.step()\n",
    "\n",
    "        self.epsilon = max(self.epsilon_end, self.epsilon * self.epsilon_decay)"
   ]
  },
  {
   "cell_type": "code",
   "execution_count": null,
   "metadata": {},
   "outputs": [],
   "source": [
    "import tqdm\n",
    "\n",
    "def train_agent(env, agent, num_episodes=100, target_update_freq=10, t_max=1000):\n",
    "    actions = []\n",
    "    rewards_per_episode = []\n",
    "\n",
    "    for episode in tqdm.trange(num_episodes):\n",
    "        state, _ = env.reset()\n",
    "        total_reward = 0\n",
    "        done = False\n",
    "\n",
    "        for i in range(t_max):\n",
    "            action = agent.act(state)\n",
    "            actions.append(action)\n",
    "\n",
    "            # можно использовать ограничение: choose only from env.get_possible_actions()\n",
    "            state_next, reward, done, _, _ = env.step(action)\n",
    "            agent.store(state, action, reward, state_next, done)\n",
    "            agent.train_step()\n",
    "            state = state_next\n",
    "            total_reward += reward\n",
    "\n",
    "        if episode % target_update_freq == 0:\n",
    "            agent.update_target_network()\n",
    "\n",
    "        rewards_per_episode.append(total_reward)\n",
    "\n",
    "        if episode % 10 == 0:\n",
    "            print(f\"Episode {episode}, Total Reward: {total_reward:.2f}, Epsilon: {agent.epsilon:.3f}\")\n",
    "\n",
    "    return rewards_per_episode, actions"
   ]
  },
  {
   "cell_type": "code",
   "execution_count": 47,
   "metadata": {},
   "outputs": [],
   "source": [
    "comission = 0.0001\n",
    "epsilon_decay=0.9999\n",
    "t_max = 2000"
   ]
  },
  {
   "cell_type": "code",
   "execution_count": null,
   "metadata": {},
   "outputs": [
    {
     "name": "stderr",
     "output_type": "stream",
     "text": [
      "  1%|          | 1/100 [00:04<06:41,  4.05s/it]"
     ]
    },
    {
     "name": "stdout",
     "output_type": "stream",
     "text": [
      "Episode 0, Total Reward: -0.07, Epsilon: 0.824\n"
     ]
    },
    {
     "name": "stderr",
     "output_type": "stream",
     "text": [
      " 11%|█         | 11/100 [00:45<05:47,  3.90s/it]"
     ]
    },
    {
     "name": "stdout",
     "output_type": "stream",
     "text": [
      "Episode 10, Total Reward: -0.02, Epsilon: 0.111\n"
     ]
    },
    {
     "name": "stderr",
     "output_type": "stream",
     "text": [
      " 21%|██        | 21/100 [01:25<05:19,  4.04s/it]"
     ]
    },
    {
     "name": "stdout",
     "output_type": "stream",
     "text": [
      "Episode 20, Total Reward: -0.01, Epsilon: 0.100\n"
     ]
    },
    {
     "name": "stderr",
     "output_type": "stream",
     "text": [
      " 31%|███       | 31/100 [02:08<05:13,  4.55s/it]"
     ]
    },
    {
     "name": "stdout",
     "output_type": "stream",
     "text": [
      "Episode 30, Total Reward: 0.00, Epsilon: 0.100\n"
     ]
    },
    {
     "name": "stderr",
     "output_type": "stream",
     "text": [
      " 37%|███▋      | 37/100 [02:36<04:52,  4.64s/it]"
     ]
    }
   ],
   "source": [
    "env = TradingEnvV1(features=feature_states, commission=comission)\n",
    "state_dim = env.observation_space.shape[0]\n",
    "action_dim = env.action_space.n\n",
    "\n",
    "agent = DQNAgent(state_dim, action_dim, epsilon_decay=epsilon_decay, gamma=0.97)\n",
    "rewards = train_agent(env, agent, num_episodes=100, t_max=t_max, target_update_freq=5)"
   ]
  },
  {
   "cell_type": "code",
   "execution_count": 64,
   "metadata": {},
   "outputs": [
    {
     "data": {
      "image/png": "[encoded data removed]",
      "text/plain": [
       "<Figure size 640x480 with 1 Axes>"
      ]
     },
     "metadata": {},
     "output_type": "display_data"
    }
   ],
   "source": [
    "plt.plot(rewards)\n",
    "plt.xlabel(\"Episode\")\n",
    "plt.ylabel(\"Total Reward\")\n",
    "plt.title(\"Training Rewards\")\n",
    "plt.grid(True)\n",
    "plt.show()\n"
   ]
  },
  {
   "cell_type": "code",
   "execution_count": 52,
   "metadata": {},
   "outputs": [],
   "source": [
    "test_features = feature_states[-1000:]"
   ]
  },
  {
   "cell_type": "code",
   "execution_count": 60,
   "metadata": {},
   "outputs": [],
   "source": [
    "test_env = TradingEnvV1(features=feature_states, commission=comission)"
   ]
  },
  {
   "cell_type": "code",
   "execution_count": 61,
   "metadata": {},
   "outputs": [],
   "source": [
    "def evaluate_agent(agent, env, render=False, t_max=1000):\n",
    "    state, _ = env.reset()\n",
    "    done = False\n",
    "    total_reward = 0.0\n",
    "    pnl_curve = []\n",
    "    prices = []\n",
    "    actions = []\n",
    "\n",
    "    while not done or t_max > 0:\n",
    "        t_max -= 1\n",
    "        with torch.no_grad():\n",
    "            state_tensor = torch.tensor(state, dtype=torch.float32).unsqueeze(0)\n",
    "            q_values = agent.q_network(state_tensor)\n",
    "            action = int(torch.argmax(q_values).item())\n",
    "            \n",
    "        \n",
    "\n",
    "        state, reward, done, _, _ = env.step(action)\n",
    "        total_reward += reward\n",
    "        pnl_curve.append(env.pnl)\n",
    "        prices.append(env._get_current_price())\n",
    "        actions.append(action)\n",
    "\n",
    "        if render:\n",
    "            from IPython.display import clear_output\n",
    "            clear_output(wait=True)\n",
    "            plt.figure(figsize=(10, 4))\n",
    "            plt.plot(pnl_curve, label='Cumulative PnL')\n",
    "            plt.title(\"Test PnL\")\n",
    "            plt.grid()\n",
    "            plt.legend()\n",
    "            plt.show()\n",
    "\n",
    "    return total_reward, pnl_curve, prices, actions"
   ]
  },
  {
   "cell_type": "code",
   "execution_count": 62,
   "metadata": {},
   "outputs": [
    {
     "ename": "KeyboardInterrupt",
     "evalue": "",
     "output_type": "error",
     "traceback": [
      "\u001b[31m---------------------------------------------------------------------------\u001b[39m",
      "\u001b[31mKeyboardInterrupt\u001b[39m                         Traceback (most recent call last)",
      "\u001b[36mCell\u001b[39m\u001b[36m \u001b[39m\u001b[32mIn[62]\u001b[39m\u001b[32m, line 1\u001b[39m\n\u001b[32m----> \u001b[39m\u001b[32m1\u001b[39m total_pnl, pnl_curve, prices, actions = \u001b[43mevaluate_agent\u001b[49m\u001b[43m(\u001b[49m\u001b[43magent\u001b[49m\u001b[43m,\u001b[49m\u001b[43m \u001b[49m\u001b[43mtest_env\u001b[49m\u001b[43m,\u001b[49m\u001b[43m \u001b[49m\u001b[43mrender\u001b[49m\u001b[43m=\u001b[49m\u001b[38;5;28;43;01mTrue\u001b[39;49;00m\u001b[43m)\u001b[49m\n\u001b[32m      3\u001b[39m \u001b[38;5;28mprint\u001b[39m(\u001b[33mf\u001b[39m\u001b[33m\"\u001b[39m\u001b[33mTotal PnL on test set: \u001b[39m\u001b[38;5;132;01m{\u001b[39;00mtotal_pnl\u001b[38;5;132;01m:\u001b[39;00m\u001b[33m.2f\u001b[39m\u001b[38;5;132;01m}\u001b[39;00m\u001b[33m\"\u001b[39m)\n",
      "\u001b[36mCell\u001b[39m\u001b[36m \u001b[39m\u001b[32mIn[61]\u001b[39m\u001b[32m, line 32\u001b[39m, in \u001b[36mevaluate_agent\u001b[39m\u001b[34m(agent, env, render, t_max)\u001b[39m\n\u001b[32m     30\u001b[39m         plt.grid()\n\u001b[32m     31\u001b[39m         plt.legend()\n\u001b[32m---> \u001b[39m\u001b[32m32\u001b[39m         \u001b[43mplt\u001b[49m\u001b[43m.\u001b[49m\u001b[43mshow\u001b[49m\u001b[43m(\u001b[49m\u001b[43m)\u001b[49m\n\u001b[32m     34\u001b[39m \u001b[38;5;28;01mreturn\u001b[39;00m total_reward, pnl_curve, prices, actions\n",
      "\u001b[36mFile \u001b[39m\u001b[32m~/projects/trading_rl/.venv/lib/python3.13/site-packages/matplotlib/pyplot.py:614\u001b[39m, in \u001b[36mshow\u001b[39m\u001b[34m(*args, **kwargs)\u001b[39m\n\u001b[32m    570\u001b[39m \u001b[38;5;250m\u001b[39m\u001b[33;03m\"\"\"\u001b[39;00m\n\u001b[32m    571\u001b[39m \u001b[33;03mDisplay all open figures.\u001b[39;00m\n\u001b[32m    572\u001b[39m \n\u001b[32m   (...)\u001b[39m\u001b[32m    611\u001b[39m \u001b[33;03mexplicitly there.\u001b[39;00m\n\u001b[32m    612\u001b[39m \u001b[33;03m\"\"\"\u001b[39;00m\n\u001b[32m    613\u001b[39m _warn_if_gui_out_of_main_thread()\n\u001b[32m--> \u001b[39m\u001b[32m614\u001b[39m \u001b[38;5;28;01mreturn\u001b[39;00m \u001b[43m_get_backend_mod\u001b[49m\u001b[43m(\u001b[49m\u001b[43m)\u001b[49m\u001b[43m.\u001b[49m\u001b[43mshow\u001b[49m\u001b[43m(\u001b[49m\u001b[43m*\u001b[49m\u001b[43margs\u001b[49m\u001b[43m,\u001b[49m\u001b[43m \u001b[49m\u001b[43m*\u001b[49m\u001b[43m*\u001b[49m\u001b[43mkwargs\u001b[49m\u001b[43m)\u001b[49m\n",
      "\u001b[36mFile \u001b[39m\u001b[32m~/projects/trading_rl/.venv/lib/python3.13/site-packages/matplotlib_inline/backend_inline.py:90\u001b[39m, in \u001b[36mshow\u001b[39m\u001b[34m(close, block)\u001b[39m\n\u001b[32m     88\u001b[39m \u001b[38;5;28;01mtry\u001b[39;00m:\n\u001b[32m     89\u001b[39m     \u001b[38;5;28;01mfor\u001b[39;00m figure_manager \u001b[38;5;129;01min\u001b[39;00m Gcf.get_all_fig_managers():\n\u001b[32m---> \u001b[39m\u001b[32m90\u001b[39m         \u001b[43mdisplay\u001b[49m\u001b[43m(\u001b[49m\n\u001b[32m     91\u001b[39m \u001b[43m            \u001b[49m\u001b[43mfigure_manager\u001b[49m\u001b[43m.\u001b[49m\u001b[43mcanvas\u001b[49m\u001b[43m.\u001b[49m\u001b[43mfigure\u001b[49m\u001b[43m,\u001b[49m\n\u001b[32m     92\u001b[39m \u001b[43m            \u001b[49m\u001b[43mmetadata\u001b[49m\u001b[43m=\u001b[49m\u001b[43m_fetch_figure_metadata\u001b[49m\u001b[43m(\u001b[49m\u001b[43mfigure_manager\u001b[49m\u001b[43m.\u001b[49m\u001b[43mcanvas\u001b[49m\u001b[43m.\u001b[49m\u001b[43mfigure\u001b[49m\u001b[43m)\u001b[49m\n\u001b[32m     93\u001b[39m \u001b[43m        \u001b[49m\u001b[43m)\u001b[49m\n\u001b[32m     94\u001b[39m \u001b[38;5;28;01mfinally\u001b[39;00m:\n\u001b[32m     95\u001b[39m     show._to_draw = []\n",
      "\u001b[36mFile \u001b[39m\u001b[32m~/projects/trading_rl/.venv/lib/python3.13/site-packages/IPython/core/display_functions.py:278\u001b[39m, in \u001b[36mdisplay\u001b[39m\u001b[34m(include, exclude, metadata, transient, display_id, raw, clear, *objs, **kwargs)\u001b[39m\n\u001b[32m    276\u001b[39m     publish_display_data(data=obj, metadata=metadata, **kwargs)\n\u001b[32m    277\u001b[39m \u001b[38;5;28;01melse\u001b[39;00m:\n\u001b[32m--> \u001b[39m\u001b[32m278\u001b[39m     format_dict, md_dict = \u001b[38;5;28;43mformat\u001b[39;49m\u001b[43m(\u001b[49m\u001b[43mobj\u001b[49m\u001b[43m,\u001b[49m\u001b[43m \u001b[49m\u001b[43minclude\u001b[49m\u001b[43m=\u001b[49m\u001b[43minclude\u001b[49m\u001b[43m,\u001b[49m\u001b[43m \u001b[49m\u001b[43mexclude\u001b[49m\u001b[43m=\u001b[49m\u001b[43mexclude\u001b[49m\u001b[43m)\u001b[49m\n\u001b[32m    279\u001b[39m     \u001b[38;5;28;01mif\u001b[39;00m \u001b[38;5;129;01mnot\u001b[39;00m format_dict:\n\u001b[32m    280\u001b[39m         \u001b[38;5;66;03m# nothing to display (e.g. _ipython_display_ took over)\u001b[39;00m\n\u001b[32m    281\u001b[39m         \u001b[38;5;28;01mcontinue\u001b[39;00m\n",
      "\u001b[36mFile \u001b[39m\u001b[32m~/projects/trading_rl/.venv/lib/python3.13/site-packages/IPython/core/formatters.py:238\u001b[39m, in \u001b[36mDisplayFormatter.format\u001b[39m\u001b[34m(self, obj, include, exclude)\u001b[39m\n\u001b[32m    236\u001b[39m md = \u001b[38;5;28;01mNone\u001b[39;00m\n\u001b[32m    237\u001b[39m \u001b[38;5;28;01mtry\u001b[39;00m:\n\u001b[32m--> \u001b[39m\u001b[32m238\u001b[39m     data = \u001b[43mformatter\u001b[49m\u001b[43m(\u001b[49m\u001b[43mobj\u001b[49m\u001b[43m)\u001b[49m\n\u001b[32m    239\u001b[39m \u001b[38;5;28;01mexcept\u001b[39;00m:\n\u001b[32m    240\u001b[39m     \u001b[38;5;66;03m# FIXME: log the exception\u001b[39;00m\n\u001b[32m    241\u001b[39m     \u001b[38;5;28;01mraise\u001b[39;00m\n",
      "\u001b[36mFile \u001b[39m\u001b[32m~/projects/trading_rl/.venv/lib/python3.13/site-packages/decorator.py:235\u001b[39m, in \u001b[36mdecorate.<locals>.fun\u001b[39m\u001b[34m(*args, **kw)\u001b[39m\n\u001b[32m    233\u001b[39m \u001b[38;5;28;01mif\u001b[39;00m \u001b[38;5;129;01mnot\u001b[39;00m kwsyntax:\n\u001b[32m    234\u001b[39m     args, kw = fix(args, kw, sig)\n\u001b[32m--> \u001b[39m\u001b[32m235\u001b[39m \u001b[38;5;28;01mreturn\u001b[39;00m \u001b[43mcaller\u001b[49m\u001b[43m(\u001b[49m\u001b[43mfunc\u001b[49m\u001b[43m,\u001b[49m\u001b[43m \u001b[49m\u001b[43m*\u001b[49m\u001b[43m(\u001b[49m\u001b[43mextras\u001b[49m\u001b[43m \u001b[49m\u001b[43m+\u001b[49m\u001b[43m \u001b[49m\u001b[43margs\u001b[49m\u001b[43m)\u001b[49m\u001b[43m,\u001b[49m\u001b[43m \u001b[49m\u001b[43m*\u001b[49m\u001b[43m*\u001b[49m\u001b[43mkw\u001b[49m\u001b[43m)\u001b[49m\n",
      "\u001b[36mFile \u001b[39m\u001b[32m~/projects/trading_rl/.venv/lib/python3.13/site-packages/IPython/core/formatters.py:282\u001b[39m, in \u001b[36mcatch_format_error\u001b[39m\u001b[34m(method, self, *args, **kwargs)\u001b[39m\n\u001b[32m    280\u001b[39m \u001b[38;5;250m\u001b[39m\u001b[33;03m\"\"\"show traceback on failed format call\"\"\"\u001b[39;00m\n\u001b[32m    281\u001b[39m \u001b[38;5;28;01mtry\u001b[39;00m:\n\u001b[32m--> \u001b[39m\u001b[32m282\u001b[39m     r = \u001b[43mmethod\u001b[49m\u001b[43m(\u001b[49m\u001b[38;5;28;43mself\u001b[39;49m\u001b[43m,\u001b[49m\u001b[43m \u001b[49m\u001b[43m*\u001b[49m\u001b[43margs\u001b[49m\u001b[43m,\u001b[49m\u001b[43m \u001b[49m\u001b[43m*\u001b[49m\u001b[43m*\u001b[49m\u001b[43mkwargs\u001b[49m\u001b[43m)\u001b[49m\n\u001b[32m    283\u001b[39m \u001b[38;5;28;01mexcept\u001b[39;00m \u001b[38;5;167;01mNotImplementedError\u001b[39;00m:\n\u001b[32m    284\u001b[39m     \u001b[38;5;66;03m# don't warn on NotImplementedErrors\u001b[39;00m\n\u001b[32m    285\u001b[39m     \u001b[38;5;28;01mreturn\u001b[39;00m \u001b[38;5;28mself\u001b[39m._check_return(\u001b[38;5;28;01mNone\u001b[39;00m, args[\u001b[32m0\u001b[39m])\n",
      "\u001b[36mFile \u001b[39m\u001b[32m~/projects/trading_rl/.venv/lib/python3.13/site-packages/IPython/core/formatters.py:402\u001b[39m, in \u001b[36mBaseFormatter.__call__\u001b[39m\u001b[34m(self, obj)\u001b[39m\n\u001b[32m    400\u001b[39m     \u001b[38;5;28;01mpass\u001b[39;00m\n\u001b[32m    401\u001b[39m \u001b[38;5;28;01melse\u001b[39;00m:\n\u001b[32m--> \u001b[39m\u001b[32m402\u001b[39m     \u001b[38;5;28;01mreturn\u001b[39;00m \u001b[43mprinter\u001b[49m\u001b[43m(\u001b[49m\u001b[43mobj\u001b[49m\u001b[43m)\u001b[49m\n\u001b[32m    403\u001b[39m \u001b[38;5;66;03m# Finally look for special method names\u001b[39;00m\n\u001b[32m    404\u001b[39m method = get_real_method(obj, \u001b[38;5;28mself\u001b[39m.print_method)\n",
      "\u001b[36mFile \u001b[39m\u001b[32m~/projects/trading_rl/.venv/lib/python3.13/site-packages/IPython/core/pylabtools.py:170\u001b[39m, in \u001b[36mprint_figure\u001b[39m\u001b[34m(fig, fmt, bbox_inches, base64, **kwargs)\u001b[39m\n\u001b[32m    167\u001b[39m     \u001b[38;5;28;01mfrom\u001b[39;00m\u001b[38;5;250m \u001b[39m\u001b[34;01mmatplotlib\u001b[39;00m\u001b[34;01m.\u001b[39;00m\u001b[34;01mbackend_bases\u001b[39;00m\u001b[38;5;250m \u001b[39m\u001b[38;5;28;01mimport\u001b[39;00m FigureCanvasBase\n\u001b[32m    168\u001b[39m     FigureCanvasBase(fig)\n\u001b[32m--> \u001b[39m\u001b[32m170\u001b[39m \u001b[43mfig\u001b[49m\u001b[43m.\u001b[49m\u001b[43mcanvas\u001b[49m\u001b[43m.\u001b[49m\u001b[43mprint_figure\u001b[49m\u001b[43m(\u001b[49m\u001b[43mbytes_io\u001b[49m\u001b[43m,\u001b[49m\u001b[43m \u001b[49m\u001b[43m*\u001b[49m\u001b[43m*\u001b[49m\u001b[43mkw\u001b[49m\u001b[43m)\u001b[49m\n\u001b[32m    171\u001b[39m data = bytes_io.getvalue()\n\u001b[32m    172\u001b[39m \u001b[38;5;28;01mif\u001b[39;00m fmt == \u001b[33m'\u001b[39m\u001b[33msvg\u001b[39m\u001b[33m'\u001b[39m:\n",
      "\u001b[36mFile \u001b[39m\u001b[32m~/projects/trading_rl/.venv/lib/python3.13/site-packages/matplotlib/backend_bases.py:2158\u001b[39m, in \u001b[36mFigureCanvasBase.print_figure\u001b[39m\u001b[34m(self, filename, dpi, facecolor, edgecolor, orientation, format, bbox_inches, pad_inches, bbox_extra_artists, backend, **kwargs)\u001b[39m\n\u001b[32m   2156\u001b[39m \u001b[38;5;28;01mif\u001b[39;00m bbox_inches:\n\u001b[32m   2157\u001b[39m     \u001b[38;5;28;01mif\u001b[39;00m bbox_inches == \u001b[33m\"\u001b[39m\u001b[33mtight\u001b[39m\u001b[33m\"\u001b[39m:\n\u001b[32m-> \u001b[39m\u001b[32m2158\u001b[39m         bbox_inches = \u001b[38;5;28;43mself\u001b[39;49m\u001b[43m.\u001b[49m\u001b[43mfigure\u001b[49m\u001b[43m.\u001b[49m\u001b[43mget_tightbbox\u001b[49m\u001b[43m(\u001b[49m\n\u001b[32m   2159\u001b[39m \u001b[43m            \u001b[49m\u001b[43mrenderer\u001b[49m\u001b[43m,\u001b[49m\u001b[43m \u001b[49m\u001b[43mbbox_extra_artists\u001b[49m\u001b[43m=\u001b[49m\u001b[43mbbox_extra_artists\u001b[49m\u001b[43m)\u001b[49m\n\u001b[32m   2160\u001b[39m         \u001b[38;5;28;01mif\u001b[39;00m (\u001b[38;5;28misinstance\u001b[39m(layout_engine, ConstrainedLayoutEngine) \u001b[38;5;129;01mand\u001b[39;00m\n\u001b[32m   2161\u001b[39m                 pad_inches == \u001b[33m\"\u001b[39m\u001b[33mlayout\u001b[39m\u001b[33m\"\u001b[39m):\n\u001b[32m   2162\u001b[39m             h_pad = layout_engine.get()[\u001b[33m\"\u001b[39m\u001b[33mh_pad\u001b[39m\u001b[33m\"\u001b[39m]\n",
      "\u001b[36mFile \u001b[39m\u001b[32m~/projects/trading_rl/.venv/lib/python3.13/site-packages/matplotlib/figure.py:1848\u001b[39m, in \u001b[36mFigureBase.get_tightbbox\u001b[39m\u001b[34m(self, renderer, bbox_extra_artists)\u001b[39m\n\u001b[32m   1844\u001b[39m \u001b[38;5;28;01mif\u001b[39;00m ax.get_visible():\n\u001b[32m   1845\u001b[39m     \u001b[38;5;66;03m# some Axes don't take the bbox_extra_artists kwarg so we\u001b[39;00m\n\u001b[32m   1846\u001b[39m     \u001b[38;5;66;03m# need this conditional....\u001b[39;00m\n\u001b[32m   1847\u001b[39m     \u001b[38;5;28;01mtry\u001b[39;00m:\n\u001b[32m-> \u001b[39m\u001b[32m1848\u001b[39m         bbox = \u001b[43max\u001b[49m\u001b[43m.\u001b[49m\u001b[43mget_tightbbox\u001b[49m\u001b[43m(\u001b[49m\n\u001b[32m   1849\u001b[39m \u001b[43m            \u001b[49m\u001b[43mrenderer\u001b[49m\u001b[43m,\u001b[49m\u001b[43m \u001b[49m\u001b[43mbbox_extra_artists\u001b[49m\u001b[43m=\u001b[49m\u001b[43mbbox_extra_artists\u001b[49m\u001b[43m)\u001b[49m\n\u001b[32m   1850\u001b[39m     \u001b[38;5;28;01mexcept\u001b[39;00m \u001b[38;5;167;01mTypeError\u001b[39;00m:\n\u001b[32m   1851\u001b[39m         bbox = ax.get_tightbbox(renderer)\n",
      "\u001b[36mFile \u001b[39m\u001b[32m~/projects/trading_rl/.venv/lib/python3.13/site-packages/matplotlib/axes/_base.py:4548\u001b[39m, in \u001b[36m_AxesBase.get_tightbbox\u001b[39m\u001b[34m(self, renderer, call_axes_locator, bbox_extra_artists, for_layout_only)\u001b[39m\n\u001b[32m   4546\u001b[39m \u001b[38;5;28;01mfor\u001b[39;00m axis \u001b[38;5;129;01min\u001b[39;00m \u001b[38;5;28mself\u001b[39m._axis_map.values():\n\u001b[32m   4547\u001b[39m     \u001b[38;5;28;01mif\u001b[39;00m \u001b[38;5;28mself\u001b[39m.axison \u001b[38;5;129;01mand\u001b[39;00m axis.get_visible():\n\u001b[32m-> \u001b[39m\u001b[32m4548\u001b[39m         ba = \u001b[43mmartist\u001b[49m\u001b[43m.\u001b[49m\u001b[43m_get_tightbbox_for_layout_only\u001b[49m\u001b[43m(\u001b[49m\u001b[43maxis\u001b[49m\u001b[43m,\u001b[49m\u001b[43m \u001b[49m\u001b[43mrenderer\u001b[49m\u001b[43m)\u001b[49m\n\u001b[32m   4549\u001b[39m         \u001b[38;5;28;01mif\u001b[39;00m ba:\n\u001b[32m   4550\u001b[39m             bb.append(ba)\n",
      "\u001b[36mFile \u001b[39m\u001b[32m~/projects/trading_rl/.venv/lib/python3.13/site-packages/matplotlib/artist.py:1402\u001b[39m, in \u001b[36m_get_tightbbox_for_layout_only\u001b[39m\u001b[34m(obj, *args, **kwargs)\u001b[39m\n\u001b[32m   1396\u001b[39m \u001b[38;5;250m\u001b[39m\u001b[33;03m\"\"\"\u001b[39;00m\n\u001b[32m   1397\u001b[39m \u001b[33;03mMatplotlib's `.Axes.get_tightbbox` and `.Axis.get_tightbbox` support a\u001b[39;00m\n\u001b[32m   1398\u001b[39m \u001b[33;03m*for_layout_only* kwarg; this helper tries to use the kwarg but skips it\u001b[39;00m\n\u001b[32m   1399\u001b[39m \u001b[33;03mwhen encountering third-party subclasses that do not support it.\u001b[39;00m\n\u001b[32m   1400\u001b[39m \u001b[33;03m\"\"\"\u001b[39;00m\n\u001b[32m   1401\u001b[39m \u001b[38;5;28;01mtry\u001b[39;00m:\n\u001b[32m-> \u001b[39m\u001b[32m1402\u001b[39m     \u001b[38;5;28;01mreturn\u001b[39;00m \u001b[43mobj\u001b[49m\u001b[43m.\u001b[49m\u001b[43mget_tightbbox\u001b[49m\u001b[43m(\u001b[49m\u001b[43m*\u001b[49m\u001b[43margs\u001b[49m\u001b[43m,\u001b[49m\u001b[43m \u001b[49m\u001b[43m*\u001b[49m\u001b[43m*\u001b[49m\u001b[43m{\u001b[49m\u001b[43m*\u001b[49m\u001b[43m*\u001b[49m\u001b[43mkwargs\u001b[49m\u001b[43m,\u001b[49m\u001b[43m \u001b[49m\u001b[33;43m\"\u001b[39;49m\u001b[33;43mfor_layout_only\u001b[39;49m\u001b[33;43m\"\u001b[39;49m\u001b[43m:\u001b[49m\u001b[43m \u001b[49m\u001b[38;5;28;43;01mTrue\u001b[39;49;00m\u001b[43m}\u001b[49m\u001b[43m)\u001b[49m\n\u001b[32m   1403\u001b[39m \u001b[38;5;28;01mexcept\u001b[39;00m \u001b[38;5;167;01mTypeError\u001b[39;00m:\n\u001b[32m   1404\u001b[39m     \u001b[38;5;28;01mreturn\u001b[39;00m obj.get_tightbbox(*args, **kwargs)\n",
      "\u001b[36mFile \u001b[39m\u001b[32m~/projects/trading_rl/.venv/lib/python3.13/site-packages/matplotlib/axis.py:1356\u001b[39m, in \u001b[36mAxis.get_tightbbox\u001b[39m\u001b[34m(self, renderer, for_layout_only)\u001b[39m\n\u001b[32m   1353\u001b[39m \u001b[38;5;28mself\u001b[39m._update_label_position(renderer)\n\u001b[32m   1355\u001b[39m \u001b[38;5;66;03m# go back to just this axis's tick labels\u001b[39;00m\n\u001b[32m-> \u001b[39m\u001b[32m1356\u001b[39m tlb1, tlb2 = \u001b[38;5;28;43mself\u001b[39;49m\u001b[43m.\u001b[49m\u001b[43m_get_ticklabel_bboxes\u001b[49m\u001b[43m(\u001b[49m\u001b[43mticks_to_draw\u001b[49m\u001b[43m,\u001b[49m\u001b[43m \u001b[49m\u001b[43mrenderer\u001b[49m\u001b[43m)\u001b[49m\n\u001b[32m   1358\u001b[39m \u001b[38;5;28mself\u001b[39m._update_offset_text_position(tlb1, tlb2)\n\u001b[32m   1359\u001b[39m \u001b[38;5;28mself\u001b[39m.offsetText.set_text(\u001b[38;5;28mself\u001b[39m.major.formatter.get_offset())\n",
      "\u001b[36mFile \u001b[39m\u001b[32m~/projects/trading_rl/.venv/lib/python3.13/site-packages/matplotlib/axis.py:1332\u001b[39m, in \u001b[36mAxis._get_ticklabel_bboxes\u001b[39m\u001b[34m(self, ticks, renderer)\u001b[39m\n\u001b[32m   1330\u001b[39m \u001b[38;5;28;01mif\u001b[39;00m renderer \u001b[38;5;129;01mis\u001b[39;00m \u001b[38;5;28;01mNone\u001b[39;00m:\n\u001b[32m   1331\u001b[39m     renderer = \u001b[38;5;28mself\u001b[39m.get_figure(root=\u001b[38;5;28;01mTrue\u001b[39;00m)._get_renderer()\n\u001b[32m-> \u001b[39m\u001b[32m1332\u001b[39m \u001b[38;5;28;01mreturn\u001b[39;00m ([\u001b[43mtick\u001b[49m\u001b[43m.\u001b[49m\u001b[43mlabel1\u001b[49m\u001b[43m.\u001b[49m\u001b[43mget_window_extent\u001b[49m\u001b[43m(\u001b[49m\u001b[43mrenderer\u001b[49m\u001b[43m)\u001b[49m\n\u001b[32m   1333\u001b[39m          \u001b[38;5;28;01mfor\u001b[39;00m tick \u001b[38;5;129;01min\u001b[39;00m ticks \u001b[38;5;28;01mif\u001b[39;00m tick.label1.get_visible()],\n\u001b[32m   1334\u001b[39m         [tick.label2.get_window_extent(renderer)\n\u001b[32m   1335\u001b[39m          \u001b[38;5;28;01mfor\u001b[39;00m tick \u001b[38;5;129;01min\u001b[39;00m ticks \u001b[38;5;28;01mif\u001b[39;00m tick.label2.get_visible()])\n",
      "\u001b[36mFile \u001b[39m\u001b[32m~/projects/trading_rl/.venv/lib/python3.13/site-packages/matplotlib/text.py:969\u001b[39m, in \u001b[36mText.get_window_extent\u001b[39m\u001b[34m(self, renderer, dpi)\u001b[39m\n\u001b[32m    964\u001b[39m     \u001b[38;5;28;01mraise\u001b[39;00m \u001b[38;5;167;01mRuntimeError\u001b[39;00m(\n\u001b[32m    965\u001b[39m         \u001b[33m\"\u001b[39m\u001b[33mCannot get window extent of text w/o renderer. You likely \u001b[39m\u001b[33m\"\u001b[39m\n\u001b[32m    966\u001b[39m         \u001b[33m\"\u001b[39m\u001b[33mwant to call \u001b[39m\u001b[33m'\u001b[39m\u001b[33mfigure.draw_without_rendering()\u001b[39m\u001b[33m'\u001b[39m\u001b[33m first.\u001b[39m\u001b[33m\"\u001b[39m)\n\u001b[32m    968\u001b[39m \u001b[38;5;28;01mwith\u001b[39;00m cbook._setattr_cm(fig, dpi=dpi):\n\u001b[32m--> \u001b[39m\u001b[32m969\u001b[39m     bbox, info, descent = \u001b[38;5;28;43mself\u001b[39;49m\u001b[43m.\u001b[49m\u001b[43m_get_layout\u001b[49m\u001b[43m(\u001b[49m\u001b[38;5;28;43mself\u001b[39;49m\u001b[43m.\u001b[49m\u001b[43m_renderer\u001b[49m\u001b[43m)\u001b[49m\n\u001b[32m    970\u001b[39m     x, y = \u001b[38;5;28mself\u001b[39m.get_unitless_position()\n\u001b[32m    971\u001b[39m     x, y = \u001b[38;5;28mself\u001b[39m.get_transform().transform((x, y))\n",
      "\u001b[36mFile \u001b[39m\u001b[32m~/projects/trading_rl/.venv/lib/python3.13/site-packages/matplotlib/text.py:373\u001b[39m, in \u001b[36mText._get_layout\u001b[39m\u001b[34m(self, renderer)\u001b[39m\n\u001b[32m    370\u001b[39m ys = []\n\u001b[32m    372\u001b[39m \u001b[38;5;66;03m# Full vertical extent of font, including ascenders and descenders:\u001b[39;00m\n\u001b[32m--> \u001b[39m\u001b[32m373\u001b[39m _, lp_h, lp_d = \u001b[43m_get_text_metrics_with_cache\u001b[49m\u001b[43m(\u001b[49m\n\u001b[32m    374\u001b[39m \u001b[43m    \u001b[49m\u001b[43mrenderer\u001b[49m\u001b[43m,\u001b[49m\u001b[43m \u001b[49m\u001b[33;43m\"\u001b[39;49m\u001b[33;43mlp\u001b[39;49m\u001b[33;43m\"\u001b[39;49m\u001b[43m,\u001b[49m\u001b[43m \u001b[49m\u001b[38;5;28;43mself\u001b[39;49m\u001b[43m.\u001b[49m\u001b[43m_fontproperties\u001b[49m\u001b[43m,\u001b[49m\n\u001b[32m    375\u001b[39m \u001b[43m    \u001b[49m\u001b[43mismath\u001b[49m\u001b[43m=\u001b[49m\u001b[33;43m\"\u001b[39;49m\u001b[33;43mTeX\u001b[39;49m\u001b[33;43m\"\u001b[39;49m\u001b[43m \u001b[49m\u001b[38;5;28;43;01mif\u001b[39;49;00m\u001b[43m \u001b[49m\u001b[38;5;28;43mself\u001b[39;49m\u001b[43m.\u001b[49m\u001b[43mget_usetex\u001b[49m\u001b[43m(\u001b[49m\u001b[43m)\u001b[49m\u001b[43m \u001b[49m\u001b[38;5;28;43;01melse\u001b[39;49;00m\u001b[43m \u001b[49m\u001b[38;5;28;43;01mFalse\u001b[39;49;00m\u001b[43m,\u001b[49m\n\u001b[32m    376\u001b[39m \u001b[43m    \u001b[49m\u001b[43mdpi\u001b[49m\u001b[43m=\u001b[49m\u001b[38;5;28;43mself\u001b[39;49m\u001b[43m.\u001b[49m\u001b[43mget_figure\u001b[49m\u001b[43m(\u001b[49m\u001b[43mroot\u001b[49m\u001b[43m=\u001b[49m\u001b[38;5;28;43;01mTrue\u001b[39;49;00m\u001b[43m)\u001b[49m\u001b[43m.\u001b[49m\u001b[43mdpi\u001b[49m\u001b[43m)\u001b[49m\n\u001b[32m    377\u001b[39m min_dy = (lp_h - lp_d) * \u001b[38;5;28mself\u001b[39m._linespacing\n\u001b[32m    379\u001b[39m \u001b[38;5;28;01mfor\u001b[39;00m i, line \u001b[38;5;129;01min\u001b[39;00m \u001b[38;5;28menumerate\u001b[39m(lines):\n",
      "\u001b[36mFile \u001b[39m\u001b[32m~/projects/trading_rl/.venv/lib/python3.13/site-packages/matplotlib/text.py:70\u001b[39m, in \u001b[36m_get_text_metrics_with_cache\u001b[39m\u001b[34m(renderer, text, fontprop, ismath, dpi)\u001b[39m\n\u001b[32m     66\u001b[39m \u001b[38;5;250m\u001b[39m\u001b[33;03m\"\"\"Call ``renderer.get_text_width_height_descent``, caching the results.\"\"\"\u001b[39;00m\n\u001b[32m     67\u001b[39m \u001b[38;5;66;03m# Cached based on a copy of fontprop so that later in-place mutations of\u001b[39;00m\n\u001b[32m     68\u001b[39m \u001b[38;5;66;03m# the passed-in argument do not mess up the cache.\u001b[39;00m\n\u001b[32m     69\u001b[39m \u001b[38;5;28;01mreturn\u001b[39;00m _get_text_metrics_with_cache_impl(\n\u001b[32m---> \u001b[39m\u001b[32m70\u001b[39m     weakref.ref(renderer), text, \u001b[43mfontprop\u001b[49m\u001b[43m.\u001b[49m\u001b[43mcopy\u001b[49m\u001b[43m(\u001b[49m\u001b[43m)\u001b[49m, ismath, dpi)\n",
      "\u001b[36mFile \u001b[39m\u001b[32m~/projects/trading_rl/.venv/lib/python3.13/site-packages/matplotlib/font_manager.py:963\u001b[39m, in \u001b[36mFontProperties.copy\u001b[39m\u001b[34m(self)\u001b[39m\n\u001b[32m    961\u001b[39m \u001b[38;5;28;01mdef\u001b[39;00m\u001b[38;5;250m \u001b[39m\u001b[34mcopy\u001b[39m(\u001b[38;5;28mself\u001b[39m):\n\u001b[32m    962\u001b[39m \u001b[38;5;250m    \u001b[39m\u001b[33;03m\"\"\"Return a copy of self.\"\"\"\u001b[39;00m\n\u001b[32m--> \u001b[39m\u001b[32m963\u001b[39m     \u001b[38;5;28;01mreturn\u001b[39;00m \u001b[43mcopy\u001b[49m\u001b[43m.\u001b[49m\u001b[43mcopy\u001b[49m\u001b[43m(\u001b[49m\u001b[38;5;28;43mself\u001b[39;49m\u001b[43m)\u001b[49m\n",
      "\u001b[36mFile \u001b[39m\u001b[32m~/projects/trading_rl/.venv/lib/python3.13/copy.py:98\u001b[39m, in \u001b[36mcopy\u001b[39m\u001b[34m(x)\u001b[39m\n\u001b[32m     96\u001b[39m \u001b[38;5;28;01mif\u001b[39;00m \u001b[38;5;28misinstance\u001b[39m(rv, \u001b[38;5;28mstr\u001b[39m):\n\u001b[32m     97\u001b[39m     \u001b[38;5;28;01mreturn\u001b[39;00m x\n\u001b[32m---> \u001b[39m\u001b[32m98\u001b[39m \u001b[38;5;28;01mreturn\u001b[39;00m \u001b[43m_reconstruct\u001b[49m\u001b[43m(\u001b[49m\u001b[43mx\u001b[49m\u001b[43m,\u001b[49m\u001b[43m \u001b[49m\u001b[38;5;28;43;01mNone\u001b[39;49;00m\u001b[43m,\u001b[49m\u001b[43m \u001b[49m\u001b[43m*\u001b[49m\u001b[43mrv\u001b[49m\u001b[43m)\u001b[49m\n",
      "\u001b[36mFile \u001b[39m\u001b[32m~/projects/trading_rl/.venv/lib/python3.13/copy.py:269\u001b[39m, in \u001b[36m_reconstruct\u001b[39m\u001b[34m(x, memo, func, args, state, listiter, dictiter, deepcopy)\u001b[39m\n\u001b[32m    267\u001b[39m     slotstate = \u001b[38;5;28;01mNone\u001b[39;00m\n\u001b[32m    268\u001b[39m \u001b[38;5;28;01mif\u001b[39;00m state \u001b[38;5;129;01mis\u001b[39;00m \u001b[38;5;129;01mnot\u001b[39;00m \u001b[38;5;28;01mNone\u001b[39;00m:\n\u001b[32m--> \u001b[39m\u001b[32m269\u001b[39m     \u001b[43my\u001b[49m\u001b[43m.\u001b[49m\u001b[34;43m__dict__\u001b[39;49m\u001b[43m.\u001b[49m\u001b[43mupdate\u001b[49m\u001b[43m(\u001b[49m\u001b[43mstate\u001b[49m\u001b[43m)\u001b[49m\n\u001b[32m    270\u001b[39m \u001b[38;5;28;01mif\u001b[39;00m slotstate \u001b[38;5;129;01mis\u001b[39;00m \u001b[38;5;129;01mnot\u001b[39;00m \u001b[38;5;28;01mNone\u001b[39;00m:\n\u001b[32m    271\u001b[39m     \u001b[38;5;28;01mfor\u001b[39;00m key, value \u001b[38;5;129;01min\u001b[39;00m slotstate.items():\n",
      "\u001b[31mKeyboardInterrupt\u001b[39m: "
     ]
    }
   ],
   "source": [
    "total_pnl, pnl_curve, prices, actions = evaluate_agent(agent, test_env, render=True)\n",
    "\n",
    "print(f\"Total PnL on test set: {total_pnl:.2f}\")"
   ]
  },
  {
   "cell_type": "code",
   "execution_count": 59,
   "metadata": {},
   "outputs": [
    {
     "data": {
      "text/plain": [
       "0    999\n",
       "Name: count, dtype: int64"
      ]
     },
     "execution_count": 59,
     "metadata": {},
     "output_type": "execute_result"
    }
   ],
   "source": [
    "pd.Series(actions).value_counts()"
   ]
  }
 ],
 "metadata": {
  "kernelspec": {
   "display_name": "Python 3",
   "language": "python",
   "name": "python3"
  },
  "language_info": {
   "codemirror_mode": {
    "name": "ipython",
    "version": 3
   },
   "file_extension": ".py",
   "mimetype": "text/x-python",
   "name": "python",
   "nbconvert_exporter": "python",
   "pygments_lexer": "ipython3",
   "version": "3.13.2"
  }
 },
 "nbformat": 4,
 "nbformat_minor": 2
}
